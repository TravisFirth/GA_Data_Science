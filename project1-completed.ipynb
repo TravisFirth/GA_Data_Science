{
 "cells": [
  {
   "cell_type": "markdown",
   "metadata": {},
   "source": [
    "# Project 1\n",
    "\n",
    "In this first project you will create a framework to scope out data science projects. This framework will provide you with a guide to develop a well-articulated problem statement and analysis plan that will be robust and reproducible."
   ]
  },
  {
   "cell_type": "markdown",
   "metadata": {},
   "source": [
    "## Practise question\n",
    "\n",
    "### Read and evaluate the following problem statement: \n",
    "Determine which free-tier customers will covert to paying customers, using demographic data collected at signup (age, gender, location, and profession) and customer useage data (days since last log in, and activity score 1 = active user, 0= inactive user) based on Hooli data from Jan-Apr 2015. \n"
   ]
  },
  {
   "cell_type": "markdown",
   "metadata": {},
   "source": [
    "#### 1. What is the outcome?"
   ]
  },
  {
   "cell_type": "markdown",
   "metadata": {},
   "source": [
    "**Answer:**  Paying Customer Indicator  (yes/no) "
   ]
  },
  {
   "cell_type": "markdown",
   "metadata": {},
   "source": [
    "#### 2. What are the predictors/covariates? "
   ]
  },
  {
   "cell_type": "markdown",
   "metadata": {},
   "source": [
    "**Answer:** age, gender, location, profession, days since last login, activity score "
   ]
  },
  {
   "cell_type": "markdown",
   "metadata": {},
   "source": [
    "#### 3. What timeframe is this data relevent for?"
   ]
  },
  {
   "cell_type": "markdown",
   "metadata": {},
   "source": [
    "**Answer:** Jan-Apr 2015 "
   ]
  },
  {
   "cell_type": "markdown",
   "metadata": {},
   "source": [
    "#### 4. What is the hypothesis?"
   ]
  },
  {
   "cell_type": "markdown",
   "metadata": {},
   "source": [
    "**Answer:** That demographic and customer usage data will help predict whether free-tier customers will convert to paying customers."
   ]
  },
  {
   "cell_type": "markdown",
   "metadata": {},
   "source": [
    "## Let's get started with our dataset\n",
    "\n",
    "#### Dataset  \n",
    "We'll be using the same dataset as UCLA's Logistic Regression in R tutorial to explore logistic regression in Python, as explained in [yhat's blog](http://blog.yhat.com/posts/logistic-regression-and-python.html). This is an excellent resource for using logistic regression and summary statistics to explore a relevant dataset. Our goal will be to identify the various factors that may influence admission into graduate school. It contains four variables - <b>admit, gre, gpa, rank.</b>\n",
    "\n",
    "- <b>admit</b> is a binary variable. It indicates whether or not a candidate was admitted admit =1) our not (admit= 0)\n",
    "- <b>gre</b> is GRE score\n",
    "- <b>gpa</b> stands for Grade Point Average\n",
    "- <b>rank</b> is the rank of an applicant's undergraduate alma mater, with 1 being the highest and 4 as the lowest\n",
    "\n"
   ]
  },
  {
   "cell_type": "markdown",
   "metadata": {},
   "source": [
    "#### 1. Create a data dictionary "
   ]
  },
  {
   "cell_type": "markdown",
   "metadata": {},
   "source": [
    "**Answer:** \n",
    "\n",
    "Variable | Description | Type of Variable\n",
    "---| ---| ---\n",
    "admit | 0 = not admitted 1 = admitted | categorical\n",
    "gre | gre score (higher is better) | continuous \n",
    "gpa | gpa score (higher is better) | continuous\n",
    "rank | undergrad rank from 1 to 4 (lower is better) | categorical\n"
   ]
  },
  {
   "cell_type": "markdown",
   "metadata": {},
   "source": [
    "We would like to explore the association between **X** *(gre, gpa and rank)* and **Y** *(admit)*."
   ]
  },
  {
   "cell_type": "markdown",
   "metadata": {},
   "source": [
    "#### 2. What is the outcome?"
   ]
  },
  {
   "cell_type": "markdown",
   "metadata": {},
   "source": [
    "**Answer:** Whether a student is admitted or not *(1/0)* into graduate school."
   ]
  },
  {
   "cell_type": "markdown",
   "metadata": {},
   "source": [
    "#### 3. What are the predictors/covariates? "
   ]
  },
  {
   "cell_type": "markdown",
   "metadata": {},
   "source": [
    "**Answer:** gre, gpa and rank"
   ]
  },
  {
   "cell_type": "markdown",
   "metadata": {},
   "source": [
    "#### 4. What timeframe is this data relevent for?"
   ]
  },
  {
   "cell_type": "markdown",
   "metadata": {},
   "source": [
    "**Answer:** The data covers 4oo students over an undisclosed timeframe."
   ]
  },
  {
   "cell_type": "markdown",
   "metadata": {},
   "source": [
    "#### 4. What is the hypothesis?"
   ]
  },
  {
   "cell_type": "markdown",
   "metadata": {},
   "source": [
    "**Answer:** That gpa, gre and rank *(prestige)* can predict whether a student will be admitted to garduate school."
   ]
  },
  {
   "cell_type": "markdown",
   "metadata": {},
   "source": [
    "    Using the above information, write a well-formed problem statement. \n"
   ]
  },
  {
   "cell_type": "markdown",
   "metadata": {},
   "source": [
    "## Problem Statement\n",
    "\n",
    "<img src=\"problem.jpg\" alt=\"Drawing\" style=\"width: 400px;\"/>\n",
    "\n",
    "Using available data of 400 students over an undefined time period, test the hypothesis that a higher grade point average **(gpa)**, higher graduate record examination **(gre)** and/or better ungraduate school prestige ranking **(rank)** will lead to a higher probability that a student will be admitted **(admit)** into graduate school."
   ]
  },
  {
   "cell_type": "markdown",
   "metadata": {},
   "source": [
    "### Exploratory Analysis Plan"
   ]
  },
  {
   "cell_type": "markdown",
   "metadata": {},
   "source": [
    "#### 1. What are the goals of the exploratory analysis? "
   ]
  },
  {
   "cell_type": "markdown",
   "metadata": {
    "collapsed": true
   },
   "source": [
    "**Answer:** The goals of the exploratory analysis are to determine the level of correlation of each of the independent variables *(gpa, gre, rank)* on the dependent variable *(admit)*, as well as the how well these three dependant variables can predict whether a student will be admitted into grad school. "
   ]
  },
  {
   "cell_type": "markdown",
   "metadata": {},
   "source": [
    "#### 2a. What are the assumptions of the distribution of data? "
   ]
  },
  {
   "cell_type": "markdown",
   "metadata": {},
   "source": [
    "**Answer:** As the sample size is above 30, and the populaton distribution is not known, central limit theorum will be applied and it is assumed that the distribution of sample means will be normal."
   ]
  },
  {
   "cell_type": "markdown",
   "metadata": {},
   "source": [
    "#### 2b. How will determine the distribution of your data? "
   ]
  },
  {
   "cell_type": "markdown",
   "metadata": {
    "collapsed": true
   },
   "source": [
    "**Answer:** Calculate the mean and the median of each dependent variable, and compare how close the two metrics are to each other (mean close to median is normal, mean < median is left skewed, mean > median is right skewed).   "
   ]
  },
  {
   "cell_type": "markdown",
   "metadata": {},
   "source": [
    "#### 3a. How might outliers impact your analysis? "
   ]
  },
  {
   "cell_type": "markdown",
   "metadata": {
    "collapsed": true
   },
   "source": [
    "**Answer:** Outliers can artificially skew the mean, which will effect the level of variance in the data, which will have downstream impacts on correlation."
   ]
  },
  {
   "cell_type": "markdown",
   "metadata": {},
   "source": [
    "#### 3b. How will you test for outliers? "
   ]
  },
  {
   "cell_type": "markdown",
   "metadata": {},
   "source": [
    "**Answer:** Calculate the interquartile range *(Q3-Q1)* and remove any extreme outliers, which are determined as being more than 4.5 x IQ from the mean."
   ]
  },
  {
   "cell_type": "markdown",
   "metadata": {},
   "source": [
    "#### 4a. What is colinearity? "
   ]
  },
  {
   "cell_type": "markdown",
   "metadata": {
    "collapsed": true
   },
   "source": [
    "**Answer:** Where two or more dependent variables have a high correlation coefficient with each other.   "
   ]
  },
  {
   "cell_type": "markdown",
   "metadata": {},
   "source": [
    "#### 4b. How will you test for colinearity? "
   ]
  },
  {
   "cell_type": "markdown",
   "metadata": {},
   "source": [
    "**Answer:** Conduct correlation calculations for gre/gpa, gre/rank, gpa/rank. Identify any colinearity of dependant variables as >+-0.8 and perform selection testing to remove the appropriate variables. "
   ]
  },
  {
   "cell_type": "markdown",
   "metadata": {},
   "source": [
    "#### 5. What is your exploratory analysis plan?\n",
    "Using the above information, write an exploratory analysis plan that would allow you or a colleague to reproduce your analysis 1 year from now. "
   ]
  },
  {
   "cell_type": "markdown",
   "metadata": {},
   "source": [
    "**Answer:** \n",
    "\n",
    "**1. Acquire the data:** Collect 400 UCLA graduate school applications and retrieve their undergraduate school, gre, gpa and whether they were admitted or not.  \n",
    "\n",
    "**2. Parse the data:** Retrieve rank information from www.undergraduateprestige.com buy matching a students undergraduate school with that on the site and retrieiving the rank. Check the data dictionary and update as required.\n",
    "\n",
    "**3. Mine the data:** Check for missing values (isnull) and formatting errors (type).\n",
    "\n",
    "**4. Refine the data:** Perform descriptive statistics to identify and undertstand how to deal outliers.\n",
    "\n",
    "**5. Create a data model:** Complete logistic regression to determine the probability of a student being admitted into UCLA grad school based on their undergraduate rank, gre and gpa.\n",
    "\n"
   ]
  },
  {
   "cell_type": "markdown",
   "metadata": {},
   "source": [
    "## Bonus Questions:\n",
    "**1. Outline your analysis method for predicting your outcome**\n",
    "\n",
    "**Answer:** \n",
    "1. Check correlation with each of the dependent variables and remove any which are highly correlated with each other.\n",
    "2. Perform linear regression with remaining variables to develop an equation for predicting whether a student will be admitted.\n",
    "3. Measure confidence levels in regression equation.\n",
    "\n",
    "**2. Write an alternative problem statement for your dataset**\n",
    "\n",
    "**Answer:** Using available data of 400 students over an undefined time period, test the hypothesis that a lower grade point average (gpa), lower graduate record examination (gre) and/or lower ungraduate school prestige ranking (rank) will lead to a higher probability that a student **won't** be admitted (admit) into graduate school.\n",
    "\n",
    "**3. Articulate the assumptions and risks of the alternative model**\n",
    "\n",
    "**Answer:** The key assumption is that a combination of gpa, gre and rank will be the primary drivers for why a student is not admitted into graduate school.  A key risk in with this alternate model is that some students may self select not to apply for UCLA graduate school and therefore the sample collected will be a subset of the population (only those that applied, not others that would have not been accepted)."
   ]
  },
  {
   "cell_type": "code",
   "execution_count": null,
   "metadata": {
    "collapsed": true
   },
   "outputs": [],
   "source": []
  }
 ],
 "metadata": {
  "kernelspec": {
   "display_name": "Python 3",
   "language": "python",
   "name": "python3"
  },
  "language_info": {
   "codemirror_mode": {
    "name": "ipython",
    "version": 3
   },
   "file_extension": ".py",
   "mimetype": "text/x-python",
   "name": "python",
   "nbconvert_exporter": "python",
   "pygments_lexer": "ipython3",
   "version": "3.6.5"
  }
 },
 "nbformat": 4,
 "nbformat_minor": 1
}
